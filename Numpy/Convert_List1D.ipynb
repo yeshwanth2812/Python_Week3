{
 "metadata": {
  "language_info": {
   "codemirror_mode": {
    "name": "ipython",
    "version": 3
   },
   "file_extension": ".py",
   "mimetype": "text/x-python",
   "name": "python",
   "nbconvert_exporter": "python",
   "pygments_lexer": "ipython3",
   "version": "3.8.5-final"
  },
  "orig_nbformat": 2,
  "kernelspec": {
   "name": "python3",
   "display_name": "Python 3.8.5 64-bit",
   "metadata": {
    "interpreter": {
     "hash": "df0893f56f349688326838aaeea0de204df53a132722cbd565e54b24a8fec5f6"
    }
   }
  }
 },
 "nbformat": 4,
 "nbformat_minor": 2,
 "cells": [
  {
   "cell_type": "code",
   "execution_count": 1,
   "metadata": {},
   "outputs": [
    {
     "output_type": "stream",
     "name": "stdout",
     "text": [
      "One-dimensional numpy array : [ 12.23  13.32 100.    36.32]\n"
     ]
    }
   ],
   "source": [
    "'''\n",
    "# -*- coding: utf-8 -*-\n",
    "# @Author: Yeshwanth\n",
    "# @Date: 2021-01-04 18:58:12\n",
    "# @Last Modified by: Yeshwanth\n",
    "# @Last Modified time: 2021-01-09 12:30:53\n",
    "# @Title: To convert a list of numeric values into a one-dimensional array. \n",
    "'''\n",
    "\n",
    "import numpy as np\n",
    "class OneDimensionalArray:\n",
    "    def convert_to_numpy_array(self):\n",
    "        original_list = [12.23, 13.32, 100, 36.32] \n",
    "        numpy_array = np.array(original_list)\n",
    "        print(\"One-dimensional numpy array :\",numpy_array)\n",
    "\n",
    "\n",
    "    One_dimension = OneDimensionalArray()\n",
    "    One_dimension.convert_to_numpy_array()"
   ]
  },
  {
   "cell_type": "code",
   "execution_count": null,
   "metadata": {},
   "outputs": [],
   "source": []
  }
 ]
}