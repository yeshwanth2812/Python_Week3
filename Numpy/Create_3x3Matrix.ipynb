{
 "metadata": {
  "language_info": {
   "codemirror_mode": {
    "name": "ipython",
    "version": 3
   },
   "file_extension": ".py",
   "mimetype": "text/x-python",
   "name": "python",
   "nbconvert_exporter": "python",
   "pygments_lexer": "ipython3",
   "version": "3.8.5-final"
  },
  "orig_nbformat": 2,
  "kernelspec": {
   "name": "python3",
   "display_name": "Python 3.8.5 64-bit",
   "metadata": {
    "interpreter": {
     "hash": "df0893f56f349688326838aaeea0de204df53a132722cbd565e54b24a8fec5f6"
    }
   }
  }
 },
 "nbformat": 4,
 "nbformat_minor": 2,
 "cells": [
  {
   "cell_type": "code",
   "execution_count": 1,
   "metadata": {},
   "outputs": [
    {
     "output_type": "stream",
     "name": "stdout",
     "text": [
      "[[ 2  3  4]\n [ 5  6  7]\n [ 8  9 10]]\n"
     ]
    }
   ],
   "source": [
    "'''\n",
    "# -*- coding: utf-8 -*-\n",
    "# @Author: Yeshwanth\n",
    "# @Date: 2021-01-04 18:58:12\n",
    "# @Last Modified by: Yeshwanth\n",
    "# @Last Modified time: 2021-01-09 12:30:53\n",
    "# @Title: To create a 3X3 matrix where elements ranging from 2 to 10\n",
    "'''\n",
    "import numpy as np\n",
    "class CreateMatrix:\n",
    "    def creating_matrix(self):\n",
    "        matrix = np.arange(2,11).reshape(3,3)\n",
    "        print(matrix)\n",
    "if __name__ == \"__main__\":\n",
    "    create_matrix = CreateMatrix()\n",
    "    create_matrix.creating_matrix()"
   ]
  },
  {
   "cell_type": "code",
   "execution_count": null,
   "metadata": {},
   "outputs": [],
   "source": []
  }
 ]
}