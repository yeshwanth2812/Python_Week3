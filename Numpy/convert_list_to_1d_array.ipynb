'''
# -*- coding: utf-8 -*-
# @Author: Yeshwanth
# @Date: 2021-01-04 18:58:12
# @Last Modified by: Yeshwanth
# @Last Modified time: 2021-01-09 12:30:53
# @Title: To convert a list of numeric values into a one-dimensional array. 
'''

import numpy as np
class OneDimensionalArray:
    def convert_to_numpy_array(self):
        original_list = [12.23, 13.32, 100, 36.32] 
        numpy_array = np.array(original_list)
        print("One-dimensional numpy array :",numpy_array)

if __name__ == "__main__":
    One_dimension = OneDimensionalArray()
    One_dimension.convert_to_numpy_array()