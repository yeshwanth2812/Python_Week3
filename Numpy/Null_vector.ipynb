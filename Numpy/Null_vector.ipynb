{
 "metadata": {
  "language_info": {
   "codemirror_mode": {
    "name": "ipython",
    "version": 3
   },
   "file_extension": ".py",
   "mimetype": "text/x-python",
   "name": "python",
   "nbconvert_exporter": "python",
   "pygments_lexer": "ipython3",
   "version": "3.8.5-final"
  },
  "orig_nbformat": 2,
  "kernelspec": {
   "name": "python3",
   "display_name": "Python 3.8.5 64-bit",
   "metadata": {
    "interpreter": {
     "hash": "df0893f56f349688326838aaeea0de204df53a132722cbd565e54b24a8fec5f6"
    }
   }
  }
 },
 "nbformat": 4,
 "nbformat_minor": 2,
 "cells": [
  {
   "cell_type": "code",
   "execution_count": 9,
   "metadata": {},
   "outputs": [
    {
     "output_type": "stream",
     "name": "stdout",
     "text": [
      "Null vector : [0. 0. 0. 0. 0. 0. 0. 0. 0. 0.]\nUpdated null vector : [ 0.  0.  0.  0.  0. 11.  0.  0.  0.  0.]\n"
     ]
    }
   ],
   "source": [
    "'''\n",
    "# -*- coding: utf-8 -*-\n",
    "# @Author: Yeshwanth\n",
    "# @Date: 2021-01-04 18:58:12\n",
    "# @Last Modified by: Yeshwanth\n",
    "# @Last Modified time: 2021-01-09 12:30:53\n",
    "# @Title: to create a null vector of size 10 and update sixth value to 11.\n",
    "'''\n",
    "import numpy as np\n",
    "class CreateNullVector:\n",
    "        def creating_null_vector(self):\n",
    "            null_vector = np.zeros(10)\n",
    "            print(\"Null vector :\",null_vector)\n",
    "            null_vector[5]=11\n",
    "            print(\"Updated null vector :\",null_vector)\n",
    "if __name__ == \"__main__\":\n",
    "        create_nullvector = CreateNullVector()\n",
    "        create_nullvector.creating_null_vector()\n"
   ]
  },
  {
   "cell_type": "code",
   "execution_count": null,
   "metadata": {},
   "outputs": [],
   "source": []
  }
 ]
}