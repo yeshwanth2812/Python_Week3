{
 "metadata": {
  "language_info": {
   "codemirror_mode": {
    "name": "ipython",
    "version": 3
   },
   "file_extension": ".py",
   "mimetype": "text/x-python",
   "name": "python",
   "nbconvert_exporter": "python",
   "pygments_lexer": "ipython3",
   "version": "3.8.5-final"
  },
  "orig_nbformat": 2,
  "kernelspec": {
   "name": "python3",
   "display_name": "Python 3.8.5 64-bit",
   "metadata": {
    "interpreter": {
     "hash": "df0893f56f349688326838aaeea0de204df53a132722cbd565e54b24a8fec5f6"
    }
   }
  }
 },
 "nbformat": 4,
 "nbformat_minor": 2,
 "cells": [
  {
   "cell_type": "code",
   "execution_count": 1,
   "metadata": {},
   "outputs": [
    {
     "output_type": "stream",
     "name": "stdout",
     "text": [
      "Array one : [1 2 4]\nArray two : [4 5 1]\na > b  : [False False  True]\na >= b : [False False  True]\na < b  : [ True  True False]\na <= b : [ True  True False]\n"
     ]
    }
   ],
   "source": [
    "'''\n",
    "# -*- coding: utf-8 -*-\n",
    "# @Author: Yeshwanth\n",
    "# @Date: 2021-01-04 18:58:12\n",
    "# @Last Modified by: Yeshwanth\n",
    "# @Last Modified time: 2021-01-09 12:30:53\n",
    "# @Title: comparing two arrays using numpy\n",
    "'''\n",
    "\n",
    "import numpy as np\n",
    "class Compare:\n",
    "    def comparing_two_arrays(self):\n",
    "        array_a = np.array([1,2,4]) \n",
    "        array_b = np.array([4,5,1])\n",
    "        print(\"Array one :\",array_a)\n",
    "        print(\"Array two :\",array_b)\n",
    "        print(\"a > b  :\",np.greater(array_a,array_b))\n",
    "        print(\"a >= b :\",np.greater_equal(array_a,array_b))\n",
    "        print(\"a < b  :\",np.less(array_a,array_b))\n",
    "        print(\"a <= b :\",np.less_equal(array_a,array_b))\n",
    "if __name__ == \"__main__\":\n",
    "    compare = Compare()\n",
    "    compare.comparing_two_arrays()"
   ]
  },
  {
   "cell_type": "code",
   "execution_count": null,
   "metadata": {},
   "outputs": [],
   "source": []
  }
 ]
}