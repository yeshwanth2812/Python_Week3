{
 "metadata": {
  "language_info": {
   "codemirror_mode": {
    "name": "ipython",
    "version": 3
   },
   "file_extension": ".py",
   "mimetype": "text/x-python",
   "name": "python",
   "nbconvert_exporter": "python",
   "pygments_lexer": "ipython3",
   "version": "3.8.5-final"
  },
  "orig_nbformat": 2,
  "kernelspec": {
   "name": "python3",
   "display_name": "Python 3.8.5 64-bit",
   "metadata": {
    "interpreter": {
     "hash": "df0893f56f349688326838aaeea0de204df53a132722cbd565e54b24a8fec5f6"
    }
   }
  }
 },
 "nbformat": 4,
 "nbformat_minor": 2,
 "cells": [
  {
   "cell_type": "code",
   "execution_count": 2,
   "metadata": {},
   "outputs": [
    {
     "output_type": "stream",
     "name": "stdout",
     "text": [
      "Size of an array: 3\nLength of one array elements in bytes: 8\nTotal bytes consumed by the elements of the array: 24\n"
     ]
    }
   ],
   "source": [
    "'''\n",
    "# -*- coding: utf-8 -*-\n",
    "# @Author: Yeshwanth\n",
    "# @Date: 2021-01-04 18:58:12\n",
    "# @Last Modified by: Yeshwanth\n",
    "# @Last Modified time: 2021-01-09 12:30:53\n",
    "# @Title: Find the size of array\n",
    "'''\n",
    "\n",
    "import numpy as np\n",
    "class ArrayMemory:\n",
    "        def array_memeory_usage(self):\n",
    "            array_elements = np.array([1,2,3],dtype=np.int64)\n",
    "            print(\"Size of an array:\",array_elements.size)\n",
    "            print(\"Length of one array elements in bytes:\",array_elements.itemsize)\n",
    "            #3 elements x each element taking 8 bytes\\n\",\n",
    "            print(\"Total bytes consumed by the elements of the array:\",array_elements.nbytes)\n",
    "if __name__ == \"__main__\":\n",
    "        array_memory = ArrayMemory()\n",
    "        array_memory.array_memeory_usage()"
   ]
  },
  {
   "cell_type": "code",
   "execution_count": null,
   "metadata": {},
   "outputs": [],
   "source": []
  }
 ]
}