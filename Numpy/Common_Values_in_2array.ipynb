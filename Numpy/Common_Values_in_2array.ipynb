{
 "metadata": {
  "language_info": {
   "codemirror_mode": {
    "name": "ipython",
    "version": 3
   },
   "file_extension": ".py",
   "mimetype": "text/x-python",
   "name": "python",
   "nbconvert_exporter": "python",
   "pygments_lexer": "ipython3",
   "version": 3
  },
  "orig_nbformat": 2
 },
 "nbformat": 4,
 "nbformat_minor": 2,
 "cells": [
  {
   "cell_type": "code",
   "execution_count": null,
   "metadata": {},
   "outputs": [],
   "source": [
    "'''\n",
    "# -*- coding: utf-8 -*-\n",
    "# @Author: Yeshwanth\n",
    "# @Date: 2021-01-04 18:58:12\n",
    "# @Last Modified by: Yeshwanth\n",
    "# @Last Modified time: 2021-01-09 12:30:53\n",
    "# @Title: Find the common values in 2 array\n",
    "'''\n",
    "\n",
    "import numpy as np\n",
    "class CommonValues:\n",
    "        def common_values_in_two_arrays(self):\n",
    "            array1 = [0,10,20,40,60] \n",
    "            array2 = [10,30,40]\n",
    "            array_intersection = np.intersect1d(array1,array2)\n",
    "            print(\"Common values between two arrays are :\",array_intersection)\n",
    "if __name__ == \"__main__\":\n",
    "        comm_values = CommonValues()\n",
    "        comm_values.common_values_in_two_arrays()"
   ]
  }
 ]
}