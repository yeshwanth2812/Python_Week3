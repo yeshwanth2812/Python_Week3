{
 "metadata": {
  "language_info": {
   "codemirror_mode": {
    "name": "ipython",
    "version": 3
   },
   "file_extension": ".py",
   "mimetype": "text/x-python",
   "name": "python",
   "nbconvert_exporter": "python",
   "pygments_lexer": "ipython3",
   "version": 3
  },
  "orig_nbformat": 2
 },
 "nbformat": 4,
 "nbformat_minor": 2,
 "cells": [
  {
   "cell_type": "code",
   "execution_count": null,
   "metadata": {},
   "outputs": [],
   "source": [
    "'''\n",
    "# -*- coding: utf-8 -*-\n",
    "# @Author: Yeshwanth\n",
    "# @Date: 2021-01-04 18:58:12\n",
    "# @Last Modified by: Yeshwanth\n",
    "# @Last Modified time: 2021-01-09 12:30:53\n",
    "# @Title: to create a 8x8 matrix and fill it with a checkerboard pattern.\n",
    "'''\n",
    "\n",
    "import numpy as np\n",
    "class CheckBoard:\n",
    "    def creating_checkboard_pattern(self):\n",
    "        pattern = np.random.randint(0,1,64).reshape(8,8)\n",
    "        print(\"Original matrix\\n\",pattern)\n",
    "        pattern[1:8:2,0:7:2]=1\n",
    "        pattern[0:7:2,1:8:2]=1\n",
    "        print(\"Checkboard pattern\\n\",pattern)\n",
    "if __name__ == \"__main__\":\n",
    "    checkboard = CheckBoard()\n",
    "    checkboard.creating_checkboard_pattern()"
   ]
  }
 ]
}