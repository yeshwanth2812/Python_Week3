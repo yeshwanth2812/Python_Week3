{
 "metadata": {
  "language_info": {
   "codemirror_mode": {
    "name": "ipython",
    "version": 3
   },
   "file_extension": ".py",
   "mimetype": "text/x-python",
   "name": "python",
   "nbconvert_exporter": "python",
   "pygments_lexer": "ipython3",
   "version": 3
  },
  "orig_nbformat": 2
 },
 "nbformat": 4,
 "nbformat_minor": 2,
 "cells": [
  {
   "cell_type": "code",
   "execution_count": null,
   "metadata": {},
   "outputs": [],
   "source": [
    "'''\n",
    "# -*- coding: utf-8 -*-\n",
    "# @Author: Yeshwanth\n",
    "# @Date: 2021-01-04 18:58:12\n",
    "# @Last Modified by: Yeshwanth\n",
    "# @Last Modified time: 2021-01-09 12:30:53\n",
    "# @Title: to find the set exclusive-or of two arrays.\n",
    "'''\n",
    "import numpy as np\n",
    "class SetExclusive:\n",
    "    def set_exclusive_or_of_two_arrays(self):\n",
    "        array1 = np.array([0,10,20,40,60,80])\n",
    "        array2 = np.array([10,30,40,50,70])\n",
    "        array_exclusive = np.setxor1d(array1,array2)\n",
    "        print(\"Unique values that are in only one (not both) of the input arrays :\",array_exclusive)\n",
    "if __name__ == \"__main__\":\n",
    "    set_exl = SetExclusive()\n",
    "    set_exl.set_exclusive_or_of_two_arrays()\n"
   ]
  }
 ]
}