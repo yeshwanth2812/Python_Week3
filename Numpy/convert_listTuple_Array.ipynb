{
 "metadata": {
  "language_info": {
   "codemirror_mode": {
    "name": "ipython",
    "version": 3
   },
   "file_extension": ".py",
   "mimetype": "text/x-python",
   "name": "python",
   "nbconvert_exporter": "python",
   "pygments_lexer": "ipython3",
   "version": "3.8.5-final"
  },
  "orig_nbformat": 2,
  "kernelspec": {
   "name": "python3",
   "display_name": "Python 3.8.5 64-bit",
   "metadata": {
    "interpreter": {
     "hash": "df0893f56f349688326838aaeea0de204df53a132722cbd565e54b24a8fec5f6"
    }
   }
  }
 },
 "nbformat": 4,
 "nbformat_minor": 2,
 "cells": [
  {
   "cell_type": "code",
   "execution_count": 3,
   "metadata": {},
   "outputs": [
    {
     "output_type": "error",
     "ename": "SyntaxError",
     "evalue": "invalid syntax (<ipython-input-3-93b659873986>, line 17)",
     "traceback": [
      "\u001b[0;36m  File \u001b[0;32m\"<ipython-input-3-93b659873986>\"\u001b[0;36m, line \u001b[0;32m17\u001b[0m\n\u001b[0;31m    print(\"Tuple to array\" :,tuple_to_array)\u001b[0m\n\u001b[0m                           ^\u001b[0m\n\u001b[0;31mSyntaxError\u001b[0m\u001b[0;31m:\u001b[0m invalid syntax\n"
     ]
    }
   ],
   "source": [
    "'''\n",
    "# -*- coding: utf-8 -*-\n",
    "# @Author: Yeshwanth\n",
    "# @Date: 2021-01-04 18:58:12\n",
    "# @Last Modified by: Yeshwanth\n",
    "# @Last Modified time: 2021-01-09 12:30:53\n",
    "# @Title: to convert a list and tuple into arrays.\n",
    "'''\n",
    "import numpy as np\n",
    "class Convert:\n",
    "    def converting_list_tuple_to_arrays(self):\n",
    "            my_list = [1,2,3,4,5,6,7,8] \n",
    "            list_to_array = np.array(my_list)\n",
    "            print(\"List to array :\",list_to_array)\n",
    "            my_tuple = ((8,4,6),(1,2,3))\n",
    "            tuple_to_array=np.array(my_tuple)\n",
    "            print(\"Tuple to array\" ,tuple_to_array)\n",
    "    \n",
    "if __name__ == \"__main__\":\n",
    "        convert = Convert()\n",
    "        convert.converting_list_tuple_to_arrays()\n"
   ]
  },
  {
   "cell_type": "code",
   "execution_count": null,
   "metadata": {},
   "outputs": [],
   "source": []
  }
 ]
}