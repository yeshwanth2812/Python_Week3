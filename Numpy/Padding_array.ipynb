{
 "metadata": {
  "language_info": {
   "codemirror_mode": {
    "name": "ipython",
    "version": 3
   },
   "file_extension": ".py",
   "mimetype": "text/x-python",
   "name": "python",
   "nbconvert_exporter": "python",
   "pygments_lexer": "ipython3",
   "version": 3
  },
  "orig_nbformat": 2
 },
 "nbformat": 4,
 "nbformat_minor": 2,
 "cells": [
  {
   "cell_type": "code",
   "execution_count": null,
   "metadata": {},
   "outputs": [],
   "source": [
    "'''\n",
    "# -*- coding: utf-8 -*-\n",
    "# @Author: Yeshwanth\n",
    "# @Date: 2021-01-04 18:58:12\n",
    "# @Last Modified by: Yeshwanth\n",
    "# @Last Modified time: 2021-01-09 12:30:53\n",
    "# @Title: To add a border (filled with 0's) around an existing array. \n",
    "'''\n",
    "\n",
    "import numpy as np\n",
    "class AddBorder:\n",
    "    def boarder_filled_with_zero(self):\n",
    "        \"\"\"\n",
    "        adding border to an array with \n",
    "        0 on the border and 1 on the inside\n",
    "        \"\"\"\n",
    "        array1 = np.random.randint(1,2,9).reshape(3,3)\n",
    "        print(\"Original array\\n\",array1)        \n",
    "        array = np.pad(array1, pad_width=1, mode='constant', constant_values=0) \n",
    "        print(\"\\nArray with zero on the border\\n\",array)\n",
    "if __name__==\"__main__\":\n",
    "    add_border = AddBorder()\n",
    "    add_border.boarder_filled_with_zero()"
   ]
  }
 ]
}