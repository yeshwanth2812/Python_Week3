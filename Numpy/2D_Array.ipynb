{
 "metadata": {
  "language_info": {
   "codemirror_mode": {
    "name": "ipython",
    "version": 3
   },
   "file_extension": ".py",
   "mimetype": "text/x-python",
   "name": "python",
   "nbconvert_exporter": "python",
   "pygments_lexer": "ipython3",
   "version": "3.8.5-final"
  },
  "orig_nbformat": 2,
  "kernelspec": {
   "name": "python3",
   "display_name": "Python 3",
   "language": "python"
  }
 },
 "nbformat": 4,
 "nbformat_minor": 2,
 "cells": [
  {
   "cell_type": "code",
   "execution_count": 1,
   "metadata": {},
   "outputs": [
    {
     "output_type": "stream",
     "name": "stdout",
     "text": [
      "Original 2D Array\n [[1 1 1 1 1]\n [1 1 1 1 1]\n [1 1 1 1 1]\n [1 1 1 1 1]\n [1 1 1 1 1]]\n2D Array with 1 on boarder and 0 inside\n [[1 1 1 1 1]\n [1 0 0 0 1]\n [1 0 0 0 1]\n [1 0 0 0 1]\n [1 1 1 1 1]]\n"
     ]
    }
   ],
   "source": [
    "'''\n",
    "# -*- coding: utf-8 -*-\n",
    "# @Author: Yeshwanth\n",
    "# @Date: 2021-01-04 18:58:12\n",
    "# @Last Modified by: Yeshwanth\n",
    "# @Last Modified time: 2021-01-09 12:30:53\n",
    "# @Title: creating a 2D array with 1 on the boarder and 0 inside\n",
    "'''\n",
    "import numpy as np\n",
    "class TwoDimensionArray:\n",
    "    def create_two_dimension_array(self):\n",
    "        two_d_array = np.array([[1,1,1,1,1],[1,1,1,1,1],[1,1,1,1,1],[1,1,1,1,1],[1,1,1,1,1]])\n",
    "        print(\"Original 2D Array\\n\",two_d_array)\n",
    "        two_d_array[1:4:1,1:4:1]=0  #[<row>,<col>]\n",
    "        print(\"2D Array with 1 on boarder and 0 inside\\n\",two_d_array)\n",
    "if __name__ == \"__main__\":\n",
    "    two_dimension = TwoDimensionArray()\n",
    "    two_dimension.create_two_dimension_array()"
   ]
  },
  {
   "cell_type": "code",
   "execution_count": null,
   "metadata": {},
   "outputs": [],
   "source": []
  }
 ]
}