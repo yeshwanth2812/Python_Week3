import numpy as np
import pandas as pd
class AppendAndDrop:
    def append_drop_new_row(self):
        
        exam_data = {'name': ['Anastasia', 'Dima', 'Katherine', 'James', 'Emily', 'Michael', 'Matthew', 'Laura', 'Kevin', 'Jonas'],
                    'score': [12.5, 9, 16.5, np.nan, 9, 20, 14.5, np.nan, 8, 19],
                    'attempts': [1, 3, 2, 3, 2, 3, 1, 1, 2, 1],
                    'qualify': ['yes', 'no', 'yes', 'no', 'no', 'yes', 'yes', 'no', 'no', 'yes']}
        
        labels = ['a', 'b', 'c', 'd', 'e', 'f', 'g', 'h', 'i', 'j'] 
        df = pd.DataFrame(exam_data,index=labels)
        data = [{"name" : "Suresh","score": 15.5,"attempts": 1,"qualify": "yes"}]
        df1 = df.append(data)
        df1 = df1.rename(index={0:"k"})
        print("Original dataframe\n",df,"\n\nDataFrame after adding row 'k'\n",df1,"\n\nAfter droping the row 'k'\n", df1.drop("k"))
if __name__=="__main__":
    append_drop = AppendAndDrop()
    append_drop.append_drop_new_row()
    