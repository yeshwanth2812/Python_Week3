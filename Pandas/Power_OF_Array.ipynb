import numpy as np
import pandas as pd
class Powers:
    def powers_of_array_values(self):
        
        series1 = pd.Series([0,1,2,3,4,5,6])
        series2 = pd.Series([3,3,3,3,3,3,3])
        print("\n Powers of array values\n",np.power(series1,series2))
if __name__=="__main__":
    powers = Powers()
    powers.powers_of_array_values()