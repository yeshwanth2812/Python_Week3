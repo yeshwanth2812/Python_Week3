import pandas as pd
class OneDimensionArray:
    def display_array(self):
        data = [1,2,3,4,5]
        array1 = pd.Series(data)
        print("One-dimensional array \n",array1)        
if __name__=="__main__":
    one_d_array = OneDimensionArray()
    one_d_array.display_array()