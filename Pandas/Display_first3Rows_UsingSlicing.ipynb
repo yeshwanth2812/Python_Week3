import numpy as np
import pandas as pd
class GetRows:
    def display_first_three_rows(self):
        
        exam_data = {'name': ['Anastasia', 'Dima', 'Katherine', 'James', 'Emily', 'Michael', 'Matthew', 'Laura', 'Kevin', 'Jonas'],
                    'score': [12.5, 9, 16.5, np.nan, 9, 20, 14.5, np.nan, 8, 19],
                    'attempts': [1, 3, 2, 3, 2, 3, 1, 1, 2, 1],
                    'qualify': ['yes', 'no', 'yes', 'no', 'no', 'yes', 'yes', 'no', 'no', 'yes']}
        
        labels = ['a', 'b', 'c', 'd', 'e', 'f', 'g', 'h', 'i', 'j'] #index
        df = pd.DataFrame(exam_data,index=labels)
        print("Display first three rows:\n\n",df[0:3])
if __name__=="__main__":
    get_rows = GetRows()
    get_rows.display_first_three_rows()