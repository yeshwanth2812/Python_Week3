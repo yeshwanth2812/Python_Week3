import numpy as np
import pandas as pd
class SelectColumnsRows:
    def select_specific_columns_and_rows(self):
        exam_data = {'name': ['Anastasia', 'Dima', 'Katherine', 'James', 'Emily', 'Michael', 'Matthew', 'Laura', 'Kevin', 'Jonas'],
                    'score': [12.5, 9, 16.5, np.nan, 9, 20, 14.5, np.nan, 8, 19],
                    'attempts': [1, 3, 2, 3, 2, 3, 1, 1, 2, 1],
                    'qualify': ['yes', 'no', 'yes', 'no', 'no', 'yes', 'yes', 'no', 'no', 'yes']}
        
        labels = ['a', 'b', 'c', 'd', 'e', 'f', 'g', 'h', 'i', 'j'] 
        df = pd.DataFrame(exam_data,index=labels)
        print("Displaying columns name and score, rows 1,3,5,6:\n\n",df.loc[["b","d","f","g"],["name","score"]])
if __name__=="__main__":
    select_col_row = SelectColumnsRows()
    select_col_row.select_specific_columns_and_rows()