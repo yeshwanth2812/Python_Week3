
import pandas as pd
class ArithmeticOpetrations:
    def arithmetic_operations_on_series(self):
        series1 = pd.Series([2,4,6,8,10])
        series2 = pd.Series([1,3,5,7,9])
        print("\nAddition\n",series1+series2,"\n\nSubtraction\n",series1-series2,"\n\nMultiplication\n",series1*series2,
              "\n\nDivision\n",series1/series2)
if __name__=="__main__":
    arithmetic_opr = ArithmeticOpetrations()
    arithmetic_opr.arithmetic_operations_on_series()