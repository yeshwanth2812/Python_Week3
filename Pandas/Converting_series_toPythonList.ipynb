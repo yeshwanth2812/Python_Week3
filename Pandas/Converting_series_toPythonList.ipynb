import pandas as pd
    class Convert:,
        def series_to_list(self):
            
            data = [1,2,3,4,5]
            series1 = pd.Series(data)
            print("Pandas series",series1)
            list1 = series1.tolist()
            print("Converted series to python list",list1,"nType",type(list1)) 
            
if __name__=="__main__":
    convert = Convert(),
    convert.series_to_list()