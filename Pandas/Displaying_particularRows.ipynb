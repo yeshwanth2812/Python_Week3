import numpy as np
import pandas as pd
class DisplayRows:
    def rows_with_attempts_greater_than_two(self):
        exam_data = {'name': ['Anastasia', 'Dima', 'Katherine', 'James', 'Emily', 'Michael', 'Matthew', 'Laura', 'Kevin', 'Jonas'],
                    'score': [12.5, 9, 16.5, np.nan, 9, 20, 14.5, np.nan, 8, 19],
                    'attempts': [1, 3, 2, 3, 2, 3, 1, 1, 2, 1],
                    'qualify': ['yes', 'no', 'yes', 'no', 'no', 'yes', 'yes', 'no', 'no', 'yes']}
        
        labels = ['a', 'b', 'c', 'd', 'e', 'f', 'g', 'h', 'i', 'j'] 
        df = pd.DataFrame(exam_data,index=labels)
        print("Displaying rows with no. of attempts in exam is greater than 2:\n\n",df.loc[df["attempts"]>2])
if __name__=="__main__":
    display_rows = DisplayRows()
    display_rows.rows_with_attempts_greater_than_two()